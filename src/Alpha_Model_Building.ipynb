{
 "cells": [
  {
   "cell_type": "markdown",
   "metadata": {},
   "source": [
    "import numpy as np\n",
    "import pandas as pd\n",
    "import os\n",
    "import torch\n",
    "import torch.nn as nn\n",
    "import torch.optim as optim\n",
    "from torch.nn import functional as F\n",
    "from sklearn import preprocessing\n",
    "from sklearn.model_selection import train_test_split\n",
    "import sklearn\n",
    "import mlflow\n",
    "import mlflow.pyfunc\n",
    "import warnings\n",
    "warnings.filterwarnings('ignore')"
   ]
  },
  {
   "cell_type": "markdown",
   "metadata": {},
   "source": [
    "# Build NN Pipeline Algo"
   ]
  },
  {
   "cell_type": "code",
   "execution_count": 1,
   "metadata": {},
   "outputs": [],
   "source": [
    "import numpy as np\n",
    "import pandas as pd\n",
    "import os\n",
    "from sklearn.preprocessing import StandardScaler\n",
    "from sklearn.neighbors import NearestNeighbors\n",
    "from sklearn.pipeline import Pipeline\n",
    "import pickle"
   ]
  },
  {
   "cell_type": "code",
   "execution_count": 2,
   "metadata": {},
   "outputs": [],
   "source": [
    "# Specify data directory\n",
    "\n",
    "data_dir = os.path.join(os.path.dirname(os.getcwd()),'data')\n",
    "model_dir = os.path.join(os.path.dirname(os.getcwd()),'model')"
   ]
  },
  {
   "cell_type": "code",
   "execution_count": 3,
   "metadata": {},
   "outputs": [],
   "source": [
    "imdb_file_path = os.path.join(data_dir, 'imbd_amazon_movie_vectors.csv')"
   ]
  },
  {
   "cell_type": "code",
   "execution_count": 4,
   "metadata": {},
   "outputs": [],
   "source": [
    "final_filter_df_path = os.path.join(data_dir, 'final_df.csv')"
   ]
  },
  {
   "cell_type": "code",
   "execution_count": 5,
   "metadata": {},
   "outputs": [
    {
     "name": "stdout",
     "output_type": "stream",
     "text": [
      "<class 'pandas.core.frame.DataFrame'>\n",
      "RangeIndex: 4304 entries, 0 to 4303\n",
      "Data columns (total 30 columns):\n",
      "Unnamed: 0                    4304 non-null int64\n",
      "title_origin_imbd             4304 non-null object\n",
      "rating                        3897 non-null object\n",
      "year                          4304 non-null float64\n",
      "users_rating                  4304 non-null float64\n",
      "votes                         4304 non-null object\n",
      "metascore                     2122 non-null float64\n",
      "img_url                       4243 non-null object\n",
      "countries                     4304 non-null object\n",
      "languages                     4304 non-null object\n",
      "actors                        4304 non-null object\n",
      "genre                         4304 non-null object\n",
      "tagline                       3528 non-null object\n",
      "description                   4242 non-null object\n",
      "directors                     4295 non-null object\n",
      "runtime                       3905 non-null object\n",
      "imdb_url                      4304 non-null object\n",
      "votes_int                     4304 non-null float64\n",
      "title_clean                   4304 non-null object\n",
      "title_origin_amazon           4304 non-null object\n",
      "isin_deep_profound            4304 non-null int64\n",
      "isin_entertaining_music       4304 non-null int64\n",
      "isin_realistic_settings       4304 non-null int64\n",
      "isin_experience_excitement    4304 non-null int64\n",
      "isin_fun                      4304 non-null int64\n",
      "deep_profound                 4304 non-null float64\n",
      "entertaining_music            4304 non-null float64\n",
      "realistic_settings            4304 non-null float64\n",
      "experience_excitement         4304 non-null float64\n",
      "fun                           4304 non-null float64\n",
      "dtypes: float64(9), int64(6), object(15)\n",
      "memory usage: 1008.8+ KB\n"
     ]
    }
   ],
   "source": [
    "df = pd.read_csv(imdb_file_path)\n",
    "\n",
    "df.info()"
   ]
  },
  {
   "cell_type": "code",
   "execution_count": 6,
   "metadata": {},
   "outputs": [],
   "source": [
    "df[['title_clean','users_rating', 'img_url', 'year', 'genre', 'description', 'title_origin_imbd', 'title_origin_amazon']].to_csv(final_filter_df_path)"
   ]
  },
  {
   "cell_type": "code",
   "execution_count": 7,
   "metadata": {},
   "outputs": [],
   "source": [
    "col_keep = ['title_clean', 'users_rating', 'deep_profound', 'entertaining_music', 'realistic_settings', \"experience_excitement\", 'fun']"
   ]
  },
  {
   "cell_type": "code",
   "execution_count": 8,
   "metadata": {},
   "outputs": [
    {
     "name": "stdout",
     "output_type": "stream",
     "text": [
      "(4304, 7)\n"
     ]
    },
    {
     "data": {
      "text/html": [
       "<div>\n",
       "<style scoped>\n",
       "    .dataframe tbody tr th:only-of-type {\n",
       "        vertical-align: middle;\n",
       "    }\n",
       "\n",
       "    .dataframe tbody tr th {\n",
       "        vertical-align: top;\n",
       "    }\n",
       "\n",
       "    .dataframe thead th {\n",
       "        text-align: right;\n",
       "    }\n",
       "</style>\n",
       "<table border=\"1\" class=\"dataframe\">\n",
       "  <thead>\n",
       "    <tr style=\"text-align: right;\">\n",
       "      <th></th>\n",
       "      <th>title_clean</th>\n",
       "      <th>users_rating</th>\n",
       "      <th>deep_profound</th>\n",
       "      <th>entertaining_music</th>\n",
       "      <th>realistic_settings</th>\n",
       "      <th>experience_excitement</th>\n",
       "      <th>fun</th>\n",
       "    </tr>\n",
       "  </thead>\n",
       "  <tbody>\n",
       "    <tr>\n",
       "      <th>0</th>\n",
       "      <td>For Love of the Game</td>\n",
       "      <td>6.6</td>\n",
       "      <td>0.0</td>\n",
       "      <td>0.0</td>\n",
       "      <td>0.0</td>\n",
       "      <td>0.0</td>\n",
       "      <td>0.0</td>\n",
       "    </tr>\n",
       "    <tr>\n",
       "      <th>1</th>\n",
       "      <td>The Lord of the Rings The Return of the King</td>\n",
       "      <td>8.9</td>\n",
       "      <td>0.0</td>\n",
       "      <td>0.0</td>\n",
       "      <td>0.0</td>\n",
       "      <td>1.0</td>\n",
       "      <td>0.0</td>\n",
       "    </tr>\n",
       "    <tr>\n",
       "      <th>2</th>\n",
       "      <td>Her</td>\n",
       "      <td>8.0</td>\n",
       "      <td>0.0</td>\n",
       "      <td>0.0</td>\n",
       "      <td>0.0</td>\n",
       "      <td>1.0</td>\n",
       "      <td>0.0</td>\n",
       "    </tr>\n",
       "    <tr>\n",
       "      <th>3</th>\n",
       "      <td>Harry Potter and the Order of the Phoenix</td>\n",
       "      <td>7.5</td>\n",
       "      <td>0.0</td>\n",
       "      <td>1.0</td>\n",
       "      <td>0.0</td>\n",
       "      <td>1.0</td>\n",
       "      <td>0.0</td>\n",
       "    </tr>\n",
       "    <tr>\n",
       "      <th>4</th>\n",
       "      <td>Heat</td>\n",
       "      <td>8.2</td>\n",
       "      <td>0.0</td>\n",
       "      <td>0.0</td>\n",
       "      <td>0.0</td>\n",
       "      <td>0.0</td>\n",
       "      <td>0.0</td>\n",
       "    </tr>\n",
       "  </tbody>\n",
       "</table>\n",
       "</div>"
      ],
      "text/plain": [
       "                                    title_clean  users_rating  deep_profound  \\\n",
       "0                          For Love of the Game           6.6            0.0   \n",
       "1  The Lord of the Rings The Return of the King           8.9            0.0   \n",
       "2                                           Her           8.0            0.0   \n",
       "3     Harry Potter and the Order of the Phoenix           7.5            0.0   \n",
       "4                                          Heat           8.2            0.0   \n",
       "\n",
       "   entertaining_music  realistic_settings  experience_excitement  fun  \n",
       "0                 0.0                 0.0                    0.0  0.0  \n",
       "1                 0.0                 0.0                    1.0  0.0  \n",
       "2                 0.0                 0.0                    1.0  0.0  \n",
       "3                 1.0                 0.0                    1.0  0.0  \n",
       "4                 0.0                 0.0                    0.0  0.0  "
      ]
     },
     "execution_count": 8,
     "metadata": {},
     "output_type": "execute_result"
    }
   ],
   "source": [
    "df = df[col_keep]\n",
    "\n",
    "print(df.shape)\n",
    "df.head()"
   ]
  },
  {
   "cell_type": "code",
   "execution_count": 9,
   "metadata": {},
   "outputs": [],
   "source": [
    "X = df.drop(['title_clean', 'users_rating'], axis = 1, errors = 'ignore')"
   ]
  },
  {
   "cell_type": "code",
   "execution_count": 10,
   "metadata": {},
   "outputs": [],
   "source": [
    "steps = [('scaler', StandardScaler()), \n",
    "         ('knn', NearestNeighbors(n_neighbors = 10,\n",
    "                                  algorithm = 'ball_tree'))]"
   ]
  },
  {
   "cell_type": "code",
   "execution_count": 11,
   "metadata": {},
   "outputs": [],
   "source": [
    "pipeline = Pipeline(steps)"
   ]
  },
  {
   "cell_type": "code",
   "execution_count": 12,
   "metadata": {},
   "outputs": [
    {
     "data": {
      "text/plain": [
       "Pipeline(steps=[('scaler', StandardScaler()),\n",
       "                ('knn',\n",
       "                 NearestNeighbors(algorithm='ball_tree', n_neighbors=10))])"
      ]
     },
     "execution_count": 12,
     "metadata": {},
     "output_type": "execute_result"
    }
   ],
   "source": [
    "pipeline.fit(X)"
   ]
  },
  {
   "cell_type": "code",
   "execution_count": 13,
   "metadata": {},
   "outputs": [
    {
     "data": {
      "text/plain": [
       "StandardScaler()"
      ]
     },
     "execution_count": 13,
     "metadata": {},
     "output_type": "execute_result"
    }
   ],
   "source": [
    "pipeline['scaler']"
   ]
  },
  {
   "cell_type": "code",
   "execution_count": 14,
   "metadata": {},
   "outputs": [],
   "source": [
    "query = [1,3,3,4,5]\n",
    "query = np.array(query).reshape(1, -1)\n",
    "query_scaled = pipeline['scaler'].transform(query.reshape(1, -1))"
   ]
  },
  {
   "cell_type": "code",
   "execution_count": 15,
   "metadata": {},
   "outputs": [],
   "source": [
    "dist, ind = pipeline['knn'].kneighbors(query_scaled)"
   ]
  },
  {
   "cell_type": "code",
   "execution_count": 16,
   "metadata": {},
   "outputs": [
    {
     "data": {
      "text/plain": [
       "array([[2946,  658, 3503,  129,  808, 3629, 3451, 1850, 4258,  259]],\n",
       "      dtype=int64)"
      ]
     },
     "execution_count": 16,
     "metadata": {},
     "output_type": "execute_result"
    }
   ],
   "source": [
    "ind"
   ]
  },
  {
   "cell_type": "code",
   "execution_count": 17,
   "metadata": {},
   "outputs": [],
   "source": [
    "filtered_recommendations = df.iloc[np.array(ind[0]),:]"
   ]
  },
  {
   "cell_type": "code",
   "execution_count": 18,
   "metadata": {},
   "outputs": [
    {
     "data": {
      "text/html": [
       "<div>\n",
       "<style scoped>\n",
       "    .dataframe tbody tr th:only-of-type {\n",
       "        vertical-align: middle;\n",
       "    }\n",
       "\n",
       "    .dataframe tbody tr th {\n",
       "        vertical-align: top;\n",
       "    }\n",
       "\n",
       "    .dataframe thead th {\n",
       "        text-align: right;\n",
       "    }\n",
       "</style>\n",
       "<table border=\"1\" class=\"dataframe\">\n",
       "  <thead>\n",
       "    <tr style=\"text-align: right;\">\n",
       "      <th></th>\n",
       "      <th>title_clean</th>\n",
       "      <th>users_rating</th>\n",
       "      <th>deep_profound</th>\n",
       "      <th>entertaining_music</th>\n",
       "      <th>realistic_settings</th>\n",
       "      <th>experience_excitement</th>\n",
       "      <th>fun</th>\n",
       "    </tr>\n",
       "  </thead>\n",
       "  <tbody>\n",
       "    <tr>\n",
       "      <th>2946</th>\n",
       "      <td>Take Her She s Mine</td>\n",
       "      <td>6.4</td>\n",
       "      <td>0.0</td>\n",
       "      <td>2.0</td>\n",
       "      <td>2.0</td>\n",
       "      <td>2.0</td>\n",
       "      <td>2.0</td>\n",
       "    </tr>\n",
       "    <tr>\n",
       "      <th>658</th>\n",
       "      <td>No Such Thing</td>\n",
       "      <td>6.1</td>\n",
       "      <td>0.0</td>\n",
       "      <td>3.0</td>\n",
       "      <td>2.0</td>\n",
       "      <td>1.0</td>\n",
       "      <td>2.0</td>\n",
       "    </tr>\n",
       "    <tr>\n",
       "      <th>3503</th>\n",
       "      <td>Elektra</td>\n",
       "      <td>4.7</td>\n",
       "      <td>0.0</td>\n",
       "      <td>1.0</td>\n",
       "      <td>1.0</td>\n",
       "      <td>3.0</td>\n",
       "      <td>2.0</td>\n",
       "    </tr>\n",
       "    <tr>\n",
       "      <th>129</th>\n",
       "      <td>Fun with Dick and Jane</td>\n",
       "      <td>6.2</td>\n",
       "      <td>1.0</td>\n",
       "      <td>1.0</td>\n",
       "      <td>1.0</td>\n",
       "      <td>1.0</td>\n",
       "      <td>4.0</td>\n",
       "    </tr>\n",
       "    <tr>\n",
       "      <th>808</th>\n",
       "      <td>The Hebrew Hammer</td>\n",
       "      <td>6.1</td>\n",
       "      <td>1.0</td>\n",
       "      <td>1.0</td>\n",
       "      <td>1.0</td>\n",
       "      <td>1.0</td>\n",
       "      <td>4.0</td>\n",
       "    </tr>\n",
       "    <tr>\n",
       "      <th>3629</th>\n",
       "      <td>Tower Heist</td>\n",
       "      <td>6.2</td>\n",
       "      <td>1.0</td>\n",
       "      <td>2.0</td>\n",
       "      <td>0.0</td>\n",
       "      <td>2.0</td>\n",
       "      <td>2.0</td>\n",
       "    </tr>\n",
       "    <tr>\n",
       "      <th>3451</th>\n",
       "      <td>Be Cool</td>\n",
       "      <td>5.6</td>\n",
       "      <td>0.0</td>\n",
       "      <td>1.0</td>\n",
       "      <td>1.0</td>\n",
       "      <td>2.0</td>\n",
       "      <td>2.0</td>\n",
       "    </tr>\n",
       "    <tr>\n",
       "      <th>1850</th>\n",
       "      <td>The Lost Skeleton of Cadavra</td>\n",
       "      <td>7.0</td>\n",
       "      <td>0.0</td>\n",
       "      <td>1.0</td>\n",
       "      <td>0.0</td>\n",
       "      <td>2.0</td>\n",
       "      <td>4.0</td>\n",
       "    </tr>\n",
       "    <tr>\n",
       "      <th>4258</th>\n",
       "      <td>School of Rock</td>\n",
       "      <td>7.1</td>\n",
       "      <td>0.0</td>\n",
       "      <td>2.0</td>\n",
       "      <td>1.0</td>\n",
       "      <td>1.0</td>\n",
       "      <td>2.0</td>\n",
       "    </tr>\n",
       "    <tr>\n",
       "      <th>259</th>\n",
       "      <td>Forces of Nature</td>\n",
       "      <td>5.4</td>\n",
       "      <td>0.0</td>\n",
       "      <td>2.0</td>\n",
       "      <td>1.0</td>\n",
       "      <td>1.0</td>\n",
       "      <td>2.0</td>\n",
       "    </tr>\n",
       "  </tbody>\n",
       "</table>\n",
       "</div>"
      ],
      "text/plain": [
       "                       title_clean  users_rating  deep_profound  \\\n",
       "2946           Take Her She s Mine           6.4            0.0   \n",
       "658                  No Such Thing           6.1            0.0   \n",
       "3503                       Elektra           4.7            0.0   \n",
       "129         Fun with Dick and Jane           6.2            1.0   \n",
       "808              The Hebrew Hammer           6.1            1.0   \n",
       "3629                   Tower Heist           6.2            1.0   \n",
       "3451                       Be Cool           5.6            0.0   \n",
       "1850  The Lost Skeleton of Cadavra           7.0            0.0   \n",
       "4258                School of Rock           7.1            0.0   \n",
       "259               Forces of Nature           5.4            0.0   \n",
       "\n",
       "      entertaining_music  realistic_settings  experience_excitement  fun  \n",
       "2946                 2.0                 2.0                    2.0  2.0  \n",
       "658                  3.0                 2.0                    1.0  2.0  \n",
       "3503                 1.0                 1.0                    3.0  2.0  \n",
       "129                  1.0                 1.0                    1.0  4.0  \n",
       "808                  1.0                 1.0                    1.0  4.0  \n",
       "3629                 2.0                 0.0                    2.0  2.0  \n",
       "3451                 1.0                 1.0                    2.0  2.0  \n",
       "1850                 1.0                 0.0                    2.0  4.0  \n",
       "4258                 2.0                 1.0                    1.0  2.0  \n",
       "259                  2.0                 1.0                    1.0  2.0  "
      ]
     },
     "execution_count": 18,
     "metadata": {},
     "output_type": "execute_result"
    }
   ],
   "source": [
    "filtered_recommendations"
   ]
  },
  {
   "cell_type": "code",
   "execution_count": 19,
   "metadata": {},
   "outputs": [],
   "source": [
    "filename = 'finalized_model.sav'\n",
    "pickle.dump(pipeline, open(os.path.join(model_dir, filename), 'wb'))"
   ]
  },
  {
   "cell_type": "markdown",
   "metadata": {},
   "source": [
    "# Build mlflow pipeline"
   ]
  },
  {
   "cell_type": "markdown",
   "metadata": {},
   "source": [
    "import mlflow\n",
    "import mlflow.pyfunc\n",
    "import mlflow.sklearn\n",
    "import warnings\n",
    "warnings.filterwarnings('ignore')"
   ]
  },
  {
   "cell_type": "markdown",
   "metadata": {},
   "source": [
    "mlflow_sklearn_path = os.path.join(model_dir, \"filter_deploy\")"
   ]
  },
  {
   "cell_type": "markdown",
   "metadata": {},
   "source": [
    "conda_env = mlflow.sklearn.get_default_conda_env()"
   ]
  },
  {
   "cell_type": "markdown",
   "metadata": {},
   "source": [
    "artifacts = {\n",
    "    \"final_df\": final_filter_df_path}"
   ]
  },
  {
   "cell_type": "markdown",
   "metadata": {},
   "source": [
    "class ModelWrapper(mlflow.pyfunc.PythonModel):\n",
    "\n",
    "    # Load in the model and all required artifacts\n",
    "    # The context object is provided by the MLflow framework\n",
    "    # It will contain all of the artifacts specified above\n",
    "    def load_context(self, context):\n",
    "        import os, pickle\n",
    "        import numpy as np\n",
    "        import pandas as pd\n",
    "        \n",
    "        # Initialize model\n",
    "        self.model = pickle.load(open('model.pkl', 'rb'))\n",
    "        \n",
    "        # Load in and deserialize the label encoder object\n",
    "        self.df = df.read_csv(context.artifacts[\"final_df.csv\"])\n",
    "                         \n",
    "    # Create a predict function for our models\n",
    "    def predict(self, context, model_input):\n",
    "        \n",
    "        query = np.array(model_input).reshape(1, -1)\n",
    "        query_scaled = self.model['scaler'].transform(query.reshape(1, -1))\n",
    "        _, ind = self.model['knn'].kneighbors(query_scaled)\n",
    "        filtered_recommendations = df.iloc[np.array(indices[0]),:]\n",
    "        \n",
    "        return filtered_recommendations"
   ]
  },
  {
   "cell_type": "markdown",
   "metadata": {},
   "source": [
    "# Package the model!\n",
    "mlflow.pyfunc.save_model(path=mlflow_sklearn_path,\n",
    "                         python_model=ModelWrapper(),\n",
    "                         artifacts=artifacts,\n",
    "                         conda_env=conda_env)"
   ]
  },
  {
   "cell_type": "code",
   "execution_count": null,
   "metadata": {},
   "outputs": [],
   "source": []
  }
 ],
 "metadata": {
  "kernelspec": {
   "display_name": "Python 3",
   "language": "python",
   "name": "python3"
  },
  "language_info": {
   "codemirror_mode": {
    "name": "ipython",
    "version": 3
   },
   "file_extension": ".py",
   "mimetype": "text/x-python",
   "name": "python",
   "nbconvert_exporter": "python",
   "pygments_lexer": "ipython3",
   "version": "3.7.3"
  }
 },
 "nbformat": 4,
 "nbformat_minor": 2
}
